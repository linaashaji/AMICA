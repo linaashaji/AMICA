{
 "cells": [
  {
   "cell_type": "code",
   "execution_count": 1,
   "id": "fewer-malawi",
   "metadata": {},
   "outputs": [],
   "source": [
    "%load_ext autoreload\n",
    "%autoreload 2"
   ]
  },
  {
   "cell_type": "code",
   "execution_count": 2,
   "id": "tracked-distinction",
   "metadata": {},
   "outputs": [],
   "source": [
    "import os, sys\n",
    "sys.path.append( os.path.abspath( os.path.join(os.getcwd(), \"./../\") ) )"
   ]
  },
  {
   "cell_type": "code",
   "execution_count": 3,
   "id": "blind-drill",
   "metadata": {},
   "outputs": [
    {
     "data": {
      "text/plain": [
       "['C:\\\\Users\\\\SC08410\\\\Desktop\\\\workspace\\\\code\\\\final_code\\\\final_code\\\\final_code\\\\transformer',\n",
       " 'C:\\\\Users\\\\SC08410\\\\Miniconda3\\\\envs\\\\TrEnv\\\\python38.zip',\n",
       " 'C:\\\\Users\\\\SC08410\\\\Miniconda3\\\\envs\\\\TrEnv\\\\DLLs',\n",
       " 'C:\\\\Users\\\\SC08410\\\\Miniconda3\\\\envs\\\\TrEnv\\\\lib',\n",
       " 'C:\\\\Users\\\\SC08410\\\\Miniconda3\\\\envs\\\\TrEnv',\n",
       " '',\n",
       " 'C:\\\\Users\\\\SC08410\\\\AppData\\\\Roaming\\\\Python\\\\Python38\\\\site-packages',\n",
       " 'C:\\\\Users\\\\SC08410\\\\Miniconda3\\\\envs\\\\TrEnv\\\\lib\\\\site-packages',\n",
       " 'C:\\\\Users\\\\SC08410\\\\Miniconda3\\\\envs\\\\TrEnv\\\\lib\\\\site-packages\\\\win32',\n",
       " 'C:\\\\Users\\\\SC08410\\\\Miniconda3\\\\envs\\\\TrEnv\\\\lib\\\\site-packages\\\\win32\\\\lib',\n",
       " 'C:\\\\Users\\\\SC08410\\\\Miniconda3\\\\envs\\\\TrEnv\\\\lib\\\\site-packages\\\\Pythonwin',\n",
       " 'C:\\\\Users\\\\SC08410\\\\AppData\\\\Roaming\\\\Python\\\\Python38\\\\site-packages\\\\IPython\\\\extensions',\n",
       " 'C:\\\\Users\\\\SC08410\\\\.ipython',\n",
       " 'C:\\\\Users\\\\SC08410\\\\Desktop\\\\workspace\\\\code\\\\final_code\\\\final_code\\\\final_code']"
      ]
     },
     "execution_count": 3,
     "metadata": {},
     "output_type": "execute_result"
    }
   ],
   "source": [
    "sys.path"
   ]
  },
  {
   "cell_type": "code",
   "execution_count": 4,
   "id": "juvenile-bailey",
   "metadata": {},
   "outputs": [],
   "source": [
    "import torch"
   ]
  },
  {
   "cell_type": "code",
   "execution_count": 67,
   "id": "rising-wilderness",
   "metadata": {},
   "outputs": [],
   "source": [
    "from transformer.social_attention import SocialAttention"
   ]
  },
  {
   "cell_type": "code",
   "execution_count": 90,
   "id": "endless-application",
   "metadata": {},
   "outputs": [],
   "source": [
    "sa = SocialAttention(64, 8, 0.0)"
   ]
  },
  {
   "cell_type": "code",
   "execution_count": 91,
   "id": "emerging-relationship",
   "metadata": {},
   "outputs": [],
   "source": [
    "x = torch.ones(2, 11, 3, 64)\n",
    "\n",
    "positions = x[:, :1, ..., :2] - x[:, :1, ..., 2:4]\n",
    "positions = torch.cat( [positions, x[..., :2]], dim=1)\n",
    "\n",
    "mask = torch.ones_like(x[..., 0])\n",
    "mask[:, :, 1]=0\n",
    "mask=mask.flatten(1,2).unsqueeze(1)\n",
    "sa.set_data(positions, mask)x = torch.ones(2, 11, 3, 64)\n",
    "\n",
    "positions = x[:, :1, ..., :2] - x[:, :1, ..., 2:4]\n",
    "positions = torch.cat( [positions, x[..., :2]], dim=1)\n",
    "\n",
    "mask = torch.ones_like(x[..., 0])\n",
    "mask[:, :, 1]=0\n",
    "mask=mask.flatten(1,2).unsqueeze(1)\n",
    "sa.set_data(positions, mask)"
   ]
  },
  {
   "cell_type": "code",
   "execution_count": 92,
   "id": "comfortable-inflation",
   "metadata": {},
   "outputs": [
    {
     "data": {
      "text/plain": [
       "torch.Size([2, 11, 3, 64])"
      ]
     },
     "execution_count": 92,
     "metadata": {},
     "output_type": "execute_result"
    }
   ],
   "source": [
    "x.shape"
   ]
  },
  {
   "cell_type": "code",
   "execution_count": 93,
   "id": "balanced-legislature",
   "metadata": {},
   "outputs": [
    {
     "data": {
      "text/plain": [
       "torch.Size([2, 12, 3, 2])"
      ]
     },
     "execution_count": 93,
     "metadata": {},
     "output_type": "execute_result"
    }
   ],
   "source": [
    "positions.shape"
   ]
  },
  {
   "cell_type": "code",
   "execution_count": 94,
   "id": "noble-jerusalem",
   "metadata": {},
   "outputs": [
    {
     "data": {
      "text/plain": [
       "torch.Size([2, 11, 8, 3, 3])"
      ]
     },
     "execution_count": 94,
     "metadata": {},
     "output_type": "execute_result"
    }
   ],
   "source": [
    "sa.attention_weights.shape"
   ]
  },
  {
   "cell_type": "code",
   "execution_count": 101,
   "id": "secure-voluntary",
   "metadata": {},
   "outputs": [],
   "source": [
    "out = sa(x, x, x, mask)"
   ]
  },
  {
   "cell_type": "code",
   "execution_count": 102,
   "id": "available-watson",
   "metadata": {},
   "outputs": [
    {
     "data": {
      "text/plain": [
       "torch.Size([2, 11, 3, 64])"
      ]
     },
     "execution_count": 102,
     "metadata": {},
     "output_type": "execute_result"
    }
   ],
   "source": [
    "out.shape"
   ]
  },
  {
   "cell_type": "code",
   "execution_count": 103,
   "id": "reported-climate",
   "metadata": {},
   "outputs": [
    {
     "data": {
      "text/plain": [
       "<matplotlib.image.AxesImage at 0x1ce05f959d0>"
      ]
     },
     "execution_count": 103,
     "metadata": {},
     "output_type": "execute_result"
    },
    {
     "data": {
      "image/png": "[encoded data removed]",
      "text/plain": [
       "<Figure size 432x288 with 1 Axes>"
      ]
     },
     "metadata": {
      "needs_background": "light"
     },
     "output_type": "display_data"
    }
   ],
   "source": [
    "import matplotlib.pyplot as plt\n",
    "\n",
    "plt.imshow(sa.attention_weights[0, 0, 0].detach())"
   ]
  },
  {
   "cell_type": "code",
   "execution_count": 342,
   "id": "electronic-international",
   "metadata": {},
   "outputs": [],
   "source": [
    "from models.socialformer_determinist import SocialFormer"
   ]
  },
  {
   "cell_type": "code",
   "execution_count": 358,
   "id": "national-terrorism",
   "metadata": {},
   "outputs": [],
   "source": [
    "SF = SocialFormer(input_max_len=12, autoregressive=False)\n",
    "SF.socialformer_attn.record_attn_weights=True"
   ]
  },
  {
   "cell_type": "code",
   "execution_count": 359,
   "id": "skilled-alignment",
   "metadata": {},
   "outputs": [],
   "source": [
    "x = torch.ones(2, 12, 3, 2)\n",
    "\n",
    "x = torch.cat( [ x[:, 1:], x[:, 1:] - x[:, :-1] ], dim=-1)\n",
    "\n",
    "mask = torch.ones_like(x[:, :, ..., 0])\n",
    "mask[:, :, 1]=0\n",
    "mask=mask.flatten(1,2).unsqueeze(1)"
   ]
  },
  {
   "cell_type": "code",
   "execution_count": 360,
   "id": "saving-mailman",
   "metadata": {},
   "outputs": [],
   "source": [
    "#SF.socialformer_attn.set_data(positions, mask)"
   ]
  },
  {
   "cell_type": "code",
   "execution_count": 361,
   "id": "colored-resort",
   "metadata": {},
   "outputs": [
    {
     "data": {
      "text/plain": [
       "torch.Size([2, 11, 3, 4])"
      ]
     },
     "execution_count": 361,
     "metadata": {},
     "output_type": "execute_result"
    }
   ],
   "source": [
    "x.shape"
   ]
  },
  {
   "cell_type": "code",
   "execution_count": 362,
   "id": "pleasant-ethics",
   "metadata": {},
   "outputs": [
    {
     "name": "stdout",
     "output_type": "stream",
     "text": [
      "torch.Size([2, 11, 3, 2])\n"
     ]
    }
   ],
   "source": [
    "SF.eval()\n",
    "out = SF(x, x[:, -1:, ..., :2], observed_mask=mask)"
   ]
  },
  {
   "cell_type": "code",
   "execution_count": 355,
   "id": "isolated-factory",
   "metadata": {},
   "outputs": [
    {
     "data": {
      "text/plain": [
       "tensor([[[[1., 1.],\n",
       "          [1., 1.],\n",
       "          [1., 1.]]],\n",
       "\n",
       "\n",
       "        [[[1., 1.],\n",
       "          [1., 1.],\n",
       "          [1., 1.]]]])"
      ]
     },
     "execution_count": 355,
     "metadata": {},
     "output_type": "execute_result"
    }
   ],
   "source": [
    "x[:, :1, ..., :2] - x[:, :1, ..., 2:4]"
   ]
  },
  {
   "cell_type": "code",
   "execution_count": 356,
   "id": "portable-cartridge",
   "metadata": {},
   "outputs": [
    {
     "data": {
      "text/plain": [
       "torch.Size([2, 12, 3, 2])"
      ]
     },
     "execution_count": 356,
     "metadata": {},
     "output_type": "execute_result"
    }
   ],
   "source": [
    "out.shape"
   ]
  },
  {
   "cell_type": "code",
   "execution_count": 357,
   "id": "planned-mathematics",
   "metadata": {},
   "outputs": [
    {
     "data": {
      "text/plain": [
       "<matplotlib.image.AxesImage at 0x1ce188fbf70>"
      ]
     },
     "execution_count": 357,
     "metadata": {},
     "output_type": "execute_result"
    },
    {
     "data": {
      "image/png": "[encoded data removed]",
      "text/plain": [
       "<Figure size 432x288 with 1 Axes>"
      ]
     },
     "metadata": {
      "needs_background": "light"
     },
     "output_type": "display_data"
    }
   ],
   "source": [
    "w = SF.socialformer_attn.attention_weights\n",
    "plt.imshow(w[0, 0, 0].detach())"
   ]
  },
  {
   "cell_type": "code",
   "execution_count": 135,
   "id": "pressed-aside",
   "metadata": {},
   "outputs": [
    {
     "data": {
      "text/plain": [
       "SocialFormerMultiHeadAttention(\n",
       "  (w): Sequential(\n",
       "    (0): Linear(in_features=4, out_features=256, bias=False)\n",
       "    (1): Tanh()\n",
       "  )\n",
       "  (v): Linear(in_features=32, out_features=1, bias=False)\n",
       "  (wv): Linear(in_features=256, out_features=256, bias=False)\n",
       "  (dense): Linear(in_features=256, out_features=256, bias=True)\n",
       "  (dropout): Dropout(p=0.1, inplace=False)\n",
       ")"
      ]
     },
     "execution_count": 135,
     "metadata": {},
     "output_type": "execute_result"
    }
   ],
   "source": []
  },
  {
   "cell_type": "code",
   "execution_count": null,
   "id": "aquatic-fisher",
   "metadata": {},
   "outputs": [],
   "source": []
  }
 ],
 "metadata": {
  "kernelspec": {
   "display_name": "Python 3",
   "language": "python",
   "name": "python3"
  },
  "language_info": {
   "codemirror_mode": {
    "name": "ipython",
    "version": 3
   },
   "file_extension": ".py",
   "mimetype": "text/x-python",
   "name": "python",
   "nbconvert_exporter": "python",
   "pygments_lexer": "ipython3",
   "version": "3.8.8"
  }
 },
 "nbformat": 4,
 "nbformat_minor": 5
}
